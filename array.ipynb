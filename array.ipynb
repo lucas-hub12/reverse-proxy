{
 "cells": [
  {
   "cell_type": "code",
   "execution_count": 14,
   "id": "9b6d77ac-58fa-4404-b93a-a5439de98a22",
   "metadata": {},
   "outputs": [
    {
     "name": "stdout",
     "output_type": "stream",
     "text": [
      "['조성근', 0, '백지원', 0, '전희진']\n",
      "['서민혁', 0, '강현룡', 0, '조민규']\n",
      "['배형균', 0, '안재영', 0, '권오준']\n"
     ]
    }
   ],
   "source": [
    "import random\n",
    "\n",
    "# 9명의 학생 이름 리스트\n",
    "students = [\"전희진\", \"배형균\", \"안재영\", \"조성근\", \"서민혁\", \"권오준\", \"백지원\", \"강현룡\", \"조민규\"]\n",
    "\n",
    "# 학생 이름을 무작위로 섞음\n",
    "random.shuffle(students)\n",
    "\n",
    "matrix = []\n",
    "# 각 행마다 3명의 학생을 배치: 학생 사이에 0이 반드시 위치하도록 함\n",
    "for i in range(3):\n",
    "    # 셔플된 리스트에서 순서대로 3명씩 가져옴\n",
    "    row_students = students[i*3:(i+1)*3]\n",
    "    # 행 구성: 학생, 0, 학생, 0, 학생\n",
    "    row = [row_students[0], 0, row_students[1], 0, row_students[2]]\n",
    "    matrix.append(row)\n",
    "\n",
    "# 결과 출력\n",
    "for row in matrix:\n",
    "    print(row)"
   ]
  },
  {
   "cell_type": "code",
   "execution_count": null,
   "id": "cb5334a4-bf27-4064-a838-0730b22892cd",
   "metadata": {},
   "outputs": [],
   "source": []
  }
 ],
 "metadata": {
  "kernelspec": {
   "display_name": "Python 3 (ipykernel)",
   "language": "python",
   "name": "python3"
  },
  "language_info": {
   "codemirror_mode": {
    "name": "ipython",
    "version": 3
   },
   "file_extension": ".py",
   "mimetype": "text/x-python",
   "name": "python",
   "nbconvert_exporter": "python",
   "pygments_lexer": "ipython3",
   "version": "3.10.12"
  }
 },
 "nbformat": 4,
 "nbformat_minor": 5
}
