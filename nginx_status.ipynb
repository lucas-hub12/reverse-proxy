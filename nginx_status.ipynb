{
 "cells": [
  {
   "cell_type": "code",
   "execution_count": 1,
   "id": "290dcc37-b5f8-42e3-8b4f-abc9fb1c529f",
   "metadata": {},
   "outputs": [],
   "source": [
    "import requests"
   ]
  },
  {
   "cell_type": "code",
   "execution_count": 4,
   "id": "16062dff-d2f7-425f-b70b-b8bb2b3ea264",
   "metadata": {},
   "outputs": [],
   "source": [
    "res = requests.get(\"http://localhost:8949/nginx_status\")\n",
    "text = res.text"
   ]
  },
  {
   "cell_type": "code",
   "execution_count": 5,
   "id": "37a92d22-a579-4618-9bb4-5913bf6de4f6",
   "metadata": {},
   "outputs": [],
   "source": [
    "lines = text.strip().splitlines()"
   ]
  },
  {
   "cell_type": "code",
   "execution_count": 6,
   "id": "a31a87b6-49a7-4b4d-8389-cac6a9c8e9f5",
   "metadata": {},
   "outputs": [
    {
     "name": "stdout",
     "output_type": "stream",
     "text": [
      "['Active connections: 2 ', 'server accepts handled requests', ' 52 52 254 ', 'Reading: 0 Writing: 1 Waiting: 1']\n"
     ]
    }
   ],
   "source": [
    "print(lines)"
   ]
  },
  {
   "cell_type": "code",
   "execution_count": 8,
   "id": "239395e9-aa35-4a51-ae63-17768cd9b9e3",
   "metadata": {},
   "outputs": [],
   "source": [
    "ac = int(lines[0].split(\":\")[1].strip())"
   ]
  },
  {
   "cell_type": "code",
   "execution_count": 9,
   "id": "cfe1feb2-a191-4b16-bf58-745dbaf3c34a",
   "metadata": {},
   "outputs": [
    {
     "name": "stdout",
     "output_type": "stream",
     "text": [
      "2\n"
     ]
    }
   ],
   "source": [
    "print(ac)"
   ]
  },
  {
   "cell_type": "code",
   "execution_count": 10,
   "id": "bcd6ccb7-4dac-4985-824a-015abc484858",
   "metadata": {},
   "outputs": [],
   "source": [
    "nums = lines[2].strip().split()\n",
    "accepts, handled, req_count = map(int, nums)"
   ]
  },
  {
   "cell_type": "code",
   "execution_count": 11,
   "id": "14bd6c82-6c85-472d-8e45-23a6d530431f",
   "metadata": {},
   "outputs": [
    {
     "name": "stdout",
     "output_type": "stream",
     "text": [
      "['52', '52', '254']\n"
     ]
    }
   ],
   "source": [
    "print(nums)"
   ]
  },
  {
   "cell_type": "code",
   "execution_count": 12,
   "id": "f45a3029-2e38-4f3a-a971-8dc6b7433081",
   "metadata": {},
   "outputs": [],
   "source": [
    "parts = lines[3].split()\n",
    "reading = int(parts[1])\n",
    "writing = int(parts[3])\n",
    "waiting = int(parts[5])"
   ]
  },
  {
   "cell_type": "code",
   "execution_count": 13,
   "id": "37f45bf3-e040-4026-adc7-dcc8aa76656a",
   "metadata": {},
   "outputs": [
    {
     "name": "stdout",
     "output_type": "stream",
     "text": [
      "ac = 2\n",
      "accepts = 52\n",
      "handled = 52\n",
      "requests = 254\n",
      "reading = 0\n",
      "writing = 1\n",
      "waiting = 1\n"
     ]
    }
   ],
   "source": [
    "print(\"ac =\", ac)\n",
    "print(\"accepts =\", accepts)\n",
    "print(\"handled =\", handled)\n",
    "print(\"requests =\", req_count)\n",
    "print(\"reading =\", reading)\n",
    "print(\"writing =\", writing)\n",
    "print(\"waiting =\", waiting)"
   ]
  },
  {
   "cell_type": "code",
   "execution_count": null,
   "id": "94ea6000-1f9f-46b8-a567-4a57dea70bd8",
   "metadata": {},
   "outputs": [],
   "source": [
    "import requests\n",
    "import time\n",
    "import csv\n",
    "import os\n",
    "\n",
    "filename = 'nginx_status_log.csv'\n",
    "\n",
    "# 파일이 없으면 헤더를 작성합니다.\n",
    "if not os.path.exists(filename):\n",
    "    with open(filename, 'w', newline='') as csvfile:\n",
    "        writer = csv.writer(csvfile)\n",
    "        writer.writerow(['timestamp', 'active_connections', 'delta_accepts', 'delta_handled', 'delta_requests', 'reading', 'writing', 'waiting'])\n",
    "\n",
    "prev_accepts = prev_handled = prev_requests = None\n",
    "\n",
    "while True:\n",
    "    try:\n",
    "        # nginx 상태 페이지에서 데이터 가져오기\n",
    "        res = requests.get(\"http://127.0.0.1:8949/nginx_status\")\n",
    "        text = res.text.strip()\n",
    "        lines = text.splitlines()\n",
    "\n",
    "        # 첫 번째 줄: Active connections 값 추출\n",
    "        ac = int(lines[0].split(\":\")[1].strip())\n",
    "\n",
    "        # 세 번째 줄: 누적값(accepts, handled, requests) 추출\n",
    "        nums = lines[2].strip().split()\n",
    "        accepts, handled, req_count = map(int, nums)\n",
    "\n",
    "        # 네 번째 줄: Reading, Writing, Waiting 값 추출\n",
    "        parts = lines[3].split()\n",
    "        reading = int(parts[1])\n",
    "        writing = int(parts[3])\n",
    "        waiting = int(parts[5])\n",
    "\n",
    "        # 누적값의 구간별(Δ) 변화 계산 (첫 측정 시 0으로 처리)\n",
    "        if prev_accepts is not None:\n",
    "            delta_accepts = accepts - prev_accepts\n",
    "            delta_handled = handled - prev_handled\n",
    "            delta_requests = req_count - prev_requests\n",
    "        else:\n",
    "            delta_accepts = delta_handled = delta_requests = 0\n",
    "\n",
    "        # 현재 타임스탬프 기록\n",
    "        timestamp = time.strftime('%Y-%m-%d %H:%M:%S')\n",
    "\n",
    "        # CSV 파일에 데이터 append\n",
    "        with open(filename, 'a', newline='') as csvfile:\n",
    "            writer = csv.writer(csvfile)\n",
    "            writer.writerow([timestamp, ac, delta_accepts, delta_handled, delta_requests, reading, writing, waiting])\n",
    "\n",
    "        # 이전 누적값 업데이트\n",
    "        prev_accepts, prev_handled, prev_requests = accepts, handled, req_count\n",
    "\n",
    "        # 10초 대기\n",
    "        time.sleep(10)\n",
    "    except Exception as e:\n",
    "        print(\"Error occurred:\", e)\n",
    "        time.sleep(10)"
   ]
  },
  {
   "cell_type": "code",
   "execution_count": null,
   "id": "7f3bab37-99f8-4455-92cc-de1e338487dc",
   "metadata": {},
   "outputs": [],
   "source": []
  }
 ],
 "metadata": {
  "kernelspec": {
   "display_name": "Python 3 (ipykernel)",
   "language": "python",
   "name": "python3"
  },
  "language_info": {
   "codemirror_mode": {
    "name": "ipython",
    "version": 3
   },
   "file_extension": ".py",
   "mimetype": "text/x-python",
   "name": "python",
   "nbconvert_exporter": "python",
   "pygments_lexer": "ipython3",
   "version": "3.10.12"
  }
 },
 "nbformat": 4,
 "nbformat_minor": 5
}
